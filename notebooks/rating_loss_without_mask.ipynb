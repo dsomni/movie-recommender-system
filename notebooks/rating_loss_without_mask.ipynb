{
 "cells": [
  {
   "cell_type": "markdown",
   "metadata": {},
   "source": [
    "# Recommendation system solution"
   ]
  },
  {
   "cell_type": "code",
   "execution_count": 1,
   "metadata": {
    "execution": {
     "iopub.execute_input": "2023-10-30T15:45:44.873357Z",
     "iopub.status.busy": "2023-10-30T15:45:44.873056Z",
     "iopub.status.idle": "2023-10-30T15:45:50.512221Z",
     "shell.execute_reply": "2023-10-30T15:45:50.511415Z",
     "shell.execute_reply.started": "2023-10-30T15:45:44.873330Z"
    },
    "trusted": true
   },
   "outputs": [],
   "source": [
    "import copy\n",
    "import warnings\n",
    "\n",
    "import numpy as np\n",
    "import pandas as pd\n",
    "import torch\n",
    "import torch.nn as nn\n",
    "import torch.nn.functional as F\n",
    "from torcheval.metrics.functional.ranking import retrieval_precision\n",
    "from tqdm import tqdm"
   ]
  },
  {
   "cell_type": "code",
   "execution_count": 2,
   "metadata": {
    "execution": {
     "iopub.execute_input": "2023-10-30T15:45:50.514346Z",
     "iopub.status.busy": "2023-10-30T15:45:50.513886Z",
     "iopub.status.idle": "2023-10-30T15:45:50.522654Z",
     "shell.execute_reply": "2023-10-30T15:45:50.521758Z",
     "shell.execute_reply.started": "2023-10-30T15:45:50.514319Z"
    },
    "trusted": true
   },
   "outputs": [],
   "source": [
    "MANUAL_SEED = 42\n",
    "torch.manual_seed(MANUAL_SEED)\n",
    "\n",
    "warnings.filterwarnings(\"ignore\")"
   ]
  },
  {
   "cell_type": "markdown",
   "metadata": {},
   "source": [
    "## Data loading and preprocessing"
   ]
  },
  {
   "cell_type": "code",
   "execution_count": 3,
   "metadata": {
    "execution": {
     "iopub.execute_input": "2023-10-30T15:45:50.524040Z",
     "iopub.status.busy": "2023-10-30T15:45:50.523804Z",
     "iopub.status.idle": "2023-10-30T15:45:50.639351Z",
     "shell.execute_reply": "2023-10-30T15:45:50.638450Z",
     "shell.execute_reply.started": "2023-10-30T15:45:50.524019Z"
    },
    "trusted": true
   },
   "outputs": [
    {
     "name": "stdout",
     "output_type": "stream",
     "text": [
      "len(df)=4715\n"
     ]
    },
    {
     "data": {
      "text/html": [
       "<div>\n",
       "<style scoped>\n",
       "    .dataframe tbody tr th:only-of-type {\n",
       "        vertical-align: middle;\n",
       "    }\n",
       "\n",
       "    .dataframe tbody tr th {\n",
       "        vertical-align: top;\n",
       "    }\n",
       "\n",
       "    .dataframe thead th {\n",
       "        text-align: right;\n",
       "    }\n",
       "</style>\n",
       "<table border=\"1\" class=\"dataframe\">\n",
       "  <thead>\n",
       "    <tr style=\"text-align: right;\">\n",
       "      <th></th>\n",
       "      <th>age</th>\n",
       "      <th>gender</th>\n",
       "      <th>occupation</th>\n",
       "      <th>zip_code</th>\n",
       "      <th>genre_unknown</th>\n",
       "      <th>genre_Action</th>\n",
       "      <th>genre_Adventure</th>\n",
       "      <th>genre_Animation</th>\n",
       "      <th>genre_Children's</th>\n",
       "      <th>genre_Comedy</th>\n",
       "      <th>...</th>\n",
       "      <th>rating_1672</th>\n",
       "      <th>rating_1673</th>\n",
       "      <th>rating_1674</th>\n",
       "      <th>rating_1675</th>\n",
       "      <th>rating_1676</th>\n",
       "      <th>rating_1677</th>\n",
       "      <th>rating_1678</th>\n",
       "      <th>rating_1679</th>\n",
       "      <th>rating_1680</th>\n",
       "      <th>rating_1681</th>\n",
       "    </tr>\n",
       "  </thead>\n",
       "  <tbody>\n",
       "    <tr>\n",
       "      <th>0</th>\n",
       "      <td>0.24</td>\n",
       "      <td>1.0</td>\n",
       "      <td>0.904762</td>\n",
       "      <td>0.569647</td>\n",
       "      <td>0.001704</td>\n",
       "      <td>0.127768</td>\n",
       "      <td>0.07155</td>\n",
       "      <td>0.020443</td>\n",
       "      <td>0.042589</td>\n",
       "      <td>0.155026</td>\n",
       "      <td>...</td>\n",
       "      <td>0.0</td>\n",
       "      <td>0.0</td>\n",
       "      <td>0.0</td>\n",
       "      <td>0.0</td>\n",
       "      <td>0.0</td>\n",
       "      <td>0.0</td>\n",
       "      <td>0.0</td>\n",
       "      <td>0.0</td>\n",
       "      <td>0.0</td>\n",
       "      <td>0.0</td>\n",
       "    </tr>\n",
       "    <tr>\n",
       "      <th>1</th>\n",
       "      <td>0.24</td>\n",
       "      <td>1.0</td>\n",
       "      <td>0.904762</td>\n",
       "      <td>0.569647</td>\n",
       "      <td>0.001704</td>\n",
       "      <td>0.127768</td>\n",
       "      <td>0.07155</td>\n",
       "      <td>0.020443</td>\n",
       "      <td>0.042589</td>\n",
       "      <td>0.155026</td>\n",
       "      <td>...</td>\n",
       "      <td>0.0</td>\n",
       "      <td>0.0</td>\n",
       "      <td>0.0</td>\n",
       "      <td>0.0</td>\n",
       "      <td>0.0</td>\n",
       "      <td>0.0</td>\n",
       "      <td>0.0</td>\n",
       "      <td>0.0</td>\n",
       "      <td>0.0</td>\n",
       "      <td>0.0</td>\n",
       "    </tr>\n",
       "    <tr>\n",
       "      <th>2</th>\n",
       "      <td>0.24</td>\n",
       "      <td>1.0</td>\n",
       "      <td>0.904762</td>\n",
       "      <td>0.569647</td>\n",
       "      <td>0.001704</td>\n",
       "      <td>0.127768</td>\n",
       "      <td>0.07155</td>\n",
       "      <td>0.020443</td>\n",
       "      <td>0.042589</td>\n",
       "      <td>0.155026</td>\n",
       "      <td>...</td>\n",
       "      <td>0.0</td>\n",
       "      <td>0.0</td>\n",
       "      <td>0.0</td>\n",
       "      <td>0.0</td>\n",
       "      <td>0.0</td>\n",
       "      <td>0.0</td>\n",
       "      <td>0.0</td>\n",
       "      <td>0.0</td>\n",
       "      <td>0.0</td>\n",
       "      <td>0.0</td>\n",
       "    </tr>\n",
       "    <tr>\n",
       "      <th>3</th>\n",
       "      <td>0.24</td>\n",
       "      <td>1.0</td>\n",
       "      <td>0.904762</td>\n",
       "      <td>0.569647</td>\n",
       "      <td>0.001704</td>\n",
       "      <td>0.127768</td>\n",
       "      <td>0.07155</td>\n",
       "      <td>0.020443</td>\n",
       "      <td>0.042589</td>\n",
       "      <td>0.155026</td>\n",
       "      <td>...</td>\n",
       "      <td>0.0</td>\n",
       "      <td>0.0</td>\n",
       "      <td>0.0</td>\n",
       "      <td>0.0</td>\n",
       "      <td>0.0</td>\n",
       "      <td>0.0</td>\n",
       "      <td>0.0</td>\n",
       "      <td>0.0</td>\n",
       "      <td>0.0</td>\n",
       "      <td>0.0</td>\n",
       "    </tr>\n",
       "    <tr>\n",
       "      <th>4</th>\n",
       "      <td>0.24</td>\n",
       "      <td>1.0</td>\n",
       "      <td>0.904762</td>\n",
       "      <td>0.569647</td>\n",
       "      <td>0.001704</td>\n",
       "      <td>0.127768</td>\n",
       "      <td>0.07155</td>\n",
       "      <td>0.020443</td>\n",
       "      <td>0.042589</td>\n",
       "      <td>0.155026</td>\n",
       "      <td>...</td>\n",
       "      <td>0.0</td>\n",
       "      <td>0.0</td>\n",
       "      <td>0.0</td>\n",
       "      <td>0.0</td>\n",
       "      <td>0.0</td>\n",
       "      <td>0.0</td>\n",
       "      <td>0.0</td>\n",
       "      <td>0.0</td>\n",
       "      <td>0.0</td>\n",
       "      <td>0.0</td>\n",
       "    </tr>\n",
       "  </tbody>\n",
       "</table>\n",
       "<p>5 rows × 3387 columns</p>\n",
       "</div>"
      ],
      "text/plain": [
       "    age  gender  occupation  zip_code  genre_unknown  genre_Action  \\\n",
       "0  0.24     1.0    0.904762  0.569647       0.001704      0.127768   \n",
       "1  0.24     1.0    0.904762  0.569647       0.001704      0.127768   \n",
       "2  0.24     1.0    0.904762  0.569647       0.001704      0.127768   \n",
       "3  0.24     1.0    0.904762  0.569647       0.001704      0.127768   \n",
       "4  0.24     1.0    0.904762  0.569647       0.001704      0.127768   \n",
       "\n",
       "   genre_Adventure  genre_Animation  genre_Children's  genre_Comedy  ...  \\\n",
       "0          0.07155         0.020443          0.042589      0.155026  ...   \n",
       "1          0.07155         0.020443          0.042589      0.155026  ...   \n",
       "2          0.07155         0.020443          0.042589      0.155026  ...   \n",
       "3          0.07155         0.020443          0.042589      0.155026  ...   \n",
       "4          0.07155         0.020443          0.042589      0.155026  ...   \n",
       "\n",
       "   rating_1672  rating_1673  rating_1674  rating_1675  rating_1676  \\\n",
       "0          0.0          0.0          0.0          0.0          0.0   \n",
       "1          0.0          0.0          0.0          0.0          0.0   \n",
       "2          0.0          0.0          0.0          0.0          0.0   \n",
       "3          0.0          0.0          0.0          0.0          0.0   \n",
       "4          0.0          0.0          0.0          0.0          0.0   \n",
       "\n",
       "   rating_1677  rating_1678  rating_1679  rating_1680  rating_1681  \n",
       "0          0.0          0.0          0.0          0.0          0.0  \n",
       "1          0.0          0.0          0.0          0.0          0.0  \n",
       "2          0.0          0.0          0.0          0.0          0.0  \n",
       "3          0.0          0.0          0.0          0.0          0.0  \n",
       "4          0.0          0.0          0.0          0.0          0.0  \n",
       "\n",
       "[5 rows x 3387 columns]"
      ]
     },
     "execution_count": 3,
     "metadata": {},
     "output_type": "execute_result"
    }
   ],
   "source": [
    "df = pd.read_csv(\"../data/raw/users_with_masks.csv\", sep=\"\\t\")\n",
    "print(f\"{len(df)=}\")\n",
    "df.head()"
   ]
  },
  {
   "cell_type": "code",
   "execution_count": 4,
   "metadata": {},
   "outputs": [
    {
     "name": "stdout",
     "output_type": "stream",
     "text": [
      "len(train_df)=4244\n",
      "len(val_df)=471\n"
     ]
    }
   ],
   "source": [
    "TRAIN_RATIO = 0.9\n",
    "\n",
    "train_df = df.sample(frac=TRAIN_RATIO, random_state=MANUAL_SEED)\n",
    "val_df = df.drop(train_df.index)\n",
    "\n",
    "print(f\"{len(train_df)=}\")\n",
    "print(f\"{len(val_df)=}\")"
   ]
  },
  {
   "cell_type": "code",
   "execution_count": 5,
   "metadata": {},
   "outputs": [],
   "source": [
    "NUM_MOVIES = 1682\n",
    "USER_FEATURES = 23"
   ]
  },
  {
   "cell_type": "code",
   "execution_count": 6,
   "metadata": {
    "execution": {
     "iopub.execute_input": "2023-10-30T15:46:04.094446Z",
     "iopub.status.busy": "2023-10-30T15:46:04.093174Z",
     "iopub.status.idle": "2023-10-30T15:46:04.105119Z",
     "shell.execute_reply": "2023-10-30T15:46:04.104195Z",
     "shell.execute_reply.started": "2023-10-30T15:46:04.094407Z"
    },
    "trusted": true
   },
   "outputs": [],
   "source": [
    "class RecommendationDataset(torch.utils.data.Dataset):\n",
    "    def __init__(self, df: pd.DataFrame):\n",
    "        self.df = df\n",
    "        self.inputs = self.df.iloc[:, : USER_FEATURES + NUM_MOVIES].to_numpy()\n",
    "        self.targets = self.df.iloc[\n",
    "            :, USER_FEATURES + NUM_MOVIES : USER_FEATURES + NUM_MOVIES * 2\n",
    "        ].to_numpy()\n",
    "\n",
    "    def _mask(self, value: np.ndarray, mask: np.ndarray) -> np.ndarray:\n",
    "        return value[mask.nonzero()]\n",
    "\n",
    "    def __getitem__(self, idx: int) -> tuple[np.ndarray, np.ndarray, np.ndarray]:\n",
    "        input_data = self.inputs[idx]\n",
    "        input_ratings = input_data[USER_FEATURES:]\n",
    "        mask = input_ratings == 0\n",
    "        target = self.targets[idx]\n",
    "        return input_data, mask, target\n",
    "\n",
    "    def __len__(self) -> int:\n",
    "        return len(self.df)"
   ]
  },
  {
   "cell_type": "code",
   "execution_count": 7,
   "metadata": {
    "execution": {
     "iopub.execute_input": "2023-10-30T15:46:04.106997Z",
     "iopub.status.busy": "2023-10-30T15:46:04.106618Z",
     "iopub.status.idle": "2023-10-30T15:46:07.777044Z",
     "shell.execute_reply": "2023-10-30T15:46:07.775971Z",
     "shell.execute_reply.started": "2023-10-30T15:46:04.106969Z"
    },
    "trusted": true
   },
   "outputs": [],
   "source": [
    "dataset = RecommendationDataset(df)"
   ]
  },
  {
   "cell_type": "code",
   "execution_count": 8,
   "metadata": {
    "execution": {
     "iopub.execute_input": "2023-10-30T15:46:07.781101Z",
     "iopub.status.busy": "2023-10-30T15:46:07.780816Z",
     "iopub.status.idle": "2023-10-30T15:46:07.811091Z",
     "shell.execute_reply": "2023-10-30T15:46:07.810236Z",
     "shell.execute_reply.started": "2023-10-30T15:46:07.781077Z"
    },
    "trusted": true
   },
   "outputs": [
    {
     "name": "stdout",
     "output_type": "stream",
     "text": [
      "len(train_dataset)=4244\n",
      "len(val_dataset)=471\n"
     ]
    }
   ],
   "source": [
    "train_dataset, val_dataset = (\n",
    "    RecommendationDataset(train_df),\n",
    "    RecommendationDataset(val_df),\n",
    ")\n",
    "print(f\"{len(train_dataset)=}\")\n",
    "print(f\"{len(val_dataset)=}\")"
   ]
  },
  {
   "cell_type": "code",
   "execution_count": 9,
   "metadata": {
    "execution": {
     "iopub.execute_input": "2023-10-30T15:46:07.812402Z",
     "iopub.status.busy": "2023-10-30T15:46:07.812119Z",
     "iopub.status.idle": "2023-10-30T15:46:07.816776Z",
     "shell.execute_reply": "2023-10-30T15:46:07.815820Z",
     "shell.execute_reply.started": "2023-10-30T15:46:07.812377Z"
    },
    "trusted": true
   },
   "outputs": [
    {
     "data": {
      "text/plain": [
       "device(type='cuda')"
      ]
     },
     "execution_count": 9,
     "metadata": {},
     "output_type": "execute_result"
    }
   ],
   "source": [
    "BATCH_SIZE = 128\n",
    "\n",
    "DEVICE = torch.device(\"cuda\" if torch.cuda.is_available() else \"cpu\")\n",
    "\n",
    "DEVICE"
   ]
  },
  {
   "cell_type": "code",
   "execution_count": 10,
   "metadata": {
    "execution": {
     "iopub.execute_input": "2023-10-30T15:46:07.831643Z",
     "iopub.status.busy": "2023-10-30T15:46:07.831399Z",
     "iopub.status.idle": "2023-10-30T15:46:07.842123Z",
     "shell.execute_reply": "2023-10-30T15:46:07.841338Z",
     "shell.execute_reply.started": "2023-10-30T15:46:07.831622Z"
    },
    "trusted": true
   },
   "outputs": [],
   "source": [
    "def collate_batch(batch: list) -> tuple[torch.Tensor, torch.Tensor, torch.Tensor]:\n",
    "    input_data_batch, mask_batch, target_batch = [], [], []\n",
    "    for input_data, mask, target in batch:\n",
    "        input_data_batch.append(input_data)\n",
    "        mask_batch.append(mask)\n",
    "        target_batch.append(target)\n",
    "\n",
    "    return (\n",
    "        torch.Tensor(input_data_batch),\n",
    "        torch.Tensor(mask_batch).bool(),\n",
    "        torch.Tensor(target_batch),\n",
    "    )\n",
    "\n",
    "\n",
    "train_dataloader = torch.utils.data.DataLoader(\n",
    "    dataset=train_dataset, batch_size=BATCH_SIZE, shuffle=True, collate_fn=collate_batch\n",
    ")\n",
    "val_dataloader = torch.utils.data.DataLoader(\n",
    "    dataset=val_dataset, batch_size=BATCH_SIZE, shuffle=False, collate_fn=collate_batch\n",
    ")"
   ]
  },
  {
   "cell_type": "code",
   "execution_count": 11,
   "metadata": {
    "execution": {
     "iopub.execute_input": "2023-10-30T15:46:07.844380Z",
     "iopub.status.busy": "2023-10-30T15:46:07.843256Z",
     "iopub.status.idle": "2023-10-30T15:46:07.919445Z",
     "shell.execute_reply": "2023-10-30T15:46:07.918458Z",
     "shell.execute_reply.started": "2023-10-30T15:46:07.844355Z"
    },
    "trusted": true
   },
   "outputs": [
    {
     "name": "stdout",
     "output_type": "stream",
     "text": [
      "torch.Size([128, 1705])\n",
      "torch.Size([128, 1682])\n",
      "torch.Size([128, 1682])\n"
     ]
    }
   ],
   "source": [
    "for batch in train_dataloader:\n",
    "    inp, mask, out = batch\n",
    "    print(inp.shape)\n",
    "    print(mask.shape)\n",
    "    print(out.shape)\n",
    "    break"
   ]
  },
  {
   "cell_type": "code",
   "execution_count": 12,
   "metadata": {
    "execution": {
     "iopub.execute_input": "2023-10-30T15:46:07.921039Z",
     "iopub.status.busy": "2023-10-30T15:46:07.920762Z",
     "iopub.status.idle": "2023-10-30T15:46:07.948728Z",
     "shell.execute_reply": "2023-10-30T15:46:07.947826Z",
     "shell.execute_reply.started": "2023-10-30T15:46:07.921015Z"
    },
    "trusted": true
   },
   "outputs": [
    {
     "data": {
      "text/plain": [
       "(tensor([[0.4800, 0.0000, 0.9524,  ..., 0.0000, 0.0000, 0.0000],\n",
       "         [0.4400, 1.0000, 0.0476,  ..., 0.0000, 0.0000, 0.0000],\n",
       "         [0.2200, 1.0000, 0.8571,  ..., 0.0000, 0.0000, 0.0000],\n",
       "         ...,\n",
       "         [0.3000, 1.0000, 0.4286,  ..., 0.0000, 0.0000, 0.0000],\n",
       "         [0.3100, 1.0000, 0.1429,  ..., 0.0000, 0.0000, 0.0000],\n",
       "         [0.6000, 1.0000, 0.9524,  ..., 0.0000, 0.0000, 0.0000]]),\n",
       " tensor([[True, True, True,  ..., True, True, True],\n",
       "         [True, True, True,  ..., True, True, True],\n",
       "         [True, True, True,  ..., True, True, True],\n",
       "         ...,\n",
       "         [True, True, True,  ..., True, True, True],\n",
       "         [True, True, True,  ..., True, True, True],\n",
       "         [True, True, True,  ..., True, True, True]]),\n",
       " tensor([[0.0000, 0.0000, 0.0000,  ..., 0.0000, 0.0000, 0.0000],\n",
       "         [0.0000, 0.0000, 0.0000,  ..., 0.0000, 0.0000, 0.0000],\n",
       "         [1.0000, 0.4000, 0.0000,  ..., 0.0000, 0.0000, 0.0000],\n",
       "         ...,\n",
       "         [0.8000, 0.0000, 0.0000,  ..., 0.0000, 0.0000, 0.0000],\n",
       "         [0.8000, 0.0000, 0.0000,  ..., 0.0000, 0.0000, 0.0000],\n",
       "         [0.0000, 0.0000, 0.0000,  ..., 0.0000, 0.0000, 0.0000]]))"
      ]
     },
     "execution_count": 12,
     "metadata": {},
     "output_type": "execute_result"
    }
   ],
   "source": [
    "it = train_dataloader._get_iterator()\n",
    "\n",
    "it._next_data()"
   ]
  },
  {
   "cell_type": "markdown",
   "metadata": {},
   "source": [
    "## Creating the network"
   ]
  },
  {
   "cell_type": "code",
   "execution_count": 13,
   "metadata": {},
   "outputs": [],
   "source": [
    "INPUT_SIZE = USER_FEATURES + NUM_MOVIES"
   ]
  },
  {
   "cell_type": "code",
   "execution_count": 14,
   "metadata": {
    "execution": {
     "iopub.execute_input": "2023-10-30T15:46:07.950125Z",
     "iopub.status.busy": "2023-10-30T15:46:07.949851Z",
     "iopub.status.idle": "2023-10-30T15:46:07.967626Z",
     "shell.execute_reply": "2023-10-30T15:46:07.966641Z",
     "shell.execute_reply.started": "2023-10-30T15:46:07.950101Z"
    },
    "trusted": true
   },
   "outputs": [],
   "source": [
    "class RecSys(nn.Module):\n",
    "    def __init__(\n",
    "        self,\n",
    "        hidden_dim1: int = 1024,\n",
    "        hidden_dim2: int = 1024,\n",
    "        hidden_dim3: int = 1024,\n",
    "    ):\n",
    "        super(RecSys, self).__init__()\n",
    "        self.d1 = nn.Dropout(0.1)\n",
    "        self.d2 = nn.Dropout(0.2)\n",
    "        self.fc1 = nn.Linear(INPUT_SIZE, hidden_dim1)\n",
    "        self.fc2 = nn.Linear(hidden_dim1, hidden_dim2)\n",
    "        self.fc3 = nn.Linear(hidden_dim2, hidden_dim3)\n",
    "        self.fc4 = nn.Linear(hidden_dim3, NUM_MOVIES)\n",
    "\n",
    "    def forward(self, x):\n",
    "        x = self.d1(x)\n",
    "        x = F.relu(self.fc1(x))\n",
    "        x = self.d2(x)\n",
    "        x = F.relu(self.fc2(x))\n",
    "        x = F.relu(self.fc3(x))\n",
    "        return F.sigmoid(self.fc4(x))\n",
    "        # return F.relu(self.fc4(x))"
   ]
  },
  {
   "cell_type": "code",
   "execution_count": 15,
   "metadata": {
    "execution": {
     "iopub.execute_input": "2023-10-30T15:46:13.722557Z",
     "iopub.status.busy": "2023-10-30T15:46:13.722268Z",
     "iopub.status.idle": "2023-10-30T15:46:14.170700Z",
     "shell.execute_reply": "2023-10-30T15:46:14.169643Z",
     "shell.execute_reply.started": "2023-10-30T15:46:13.722526Z"
    },
    "trusted": true
   },
   "outputs": [],
   "source": [
    "torch.manual_seed(MANUAL_SEED)\n",
    "\n",
    "model = RecSys()\n",
    "\n",
    "for p in model.parameters():\n",
    "    if p.dim() > 1:\n",
    "        nn.init.xavier_uniform_(p)\n",
    "\n",
    "model = model.to(DEVICE)\n",
    "\n",
    "# loss_fn = torch.nn.MSELoss(reduction='sum')\n",
    "loss_fn = torch.nn.MSELoss()\n",
    "# loss_fn = torch.nn.L1Loss()\n",
    "\n",
    "optimizer = torch.optim.Adam(model.parameters(), lr=1e-4)"
   ]
  },
  {
   "cell_type": "markdown",
   "metadata": {},
   "source": [
    "## Train model"
   ]
  },
  {
   "cell_type": "code",
   "execution_count": 16,
   "metadata": {
    "execution": {
     "iopub.execute_input": "2023-10-30T15:46:14.172208Z",
     "iopub.status.busy": "2023-10-30T15:46:14.171914Z",
     "iopub.status.idle": "2023-10-30T15:46:14.185601Z",
     "shell.execute_reply": "2023-10-30T15:46:14.184636Z",
     "shell.execute_reply.started": "2023-10-30T15:46:14.172183Z"
    },
    "trusted": true
   },
   "outputs": [],
   "source": [
    "def train_one_epoch(\n",
    "    model,\n",
    "    loader,\n",
    "    optimizer,\n",
    "    loss_fn,\n",
    "    epoch,\n",
    "):\n",
    "    model.train()\n",
    "    train_loss = 0.0\n",
    "    total = 0\n",
    "\n",
    "    loop = tqdm(\n",
    "        loader,\n",
    "        total=len(loader),\n",
    "        desc=f\"Epoch {epoch}: train\",\n",
    "        leave=True,\n",
    "    )\n",
    "    for batch in loop:\n",
    "        input_data, mask, target = batch\n",
    "        input_data, target, mask = (\n",
    "            input_data.to(DEVICE),\n",
    "            target.to(DEVICE),\n",
    "            mask.to(DEVICE),\n",
    "        )\n",
    "\n",
    "        # forward pass and loss calculation\n",
    "        outputs = model(input_data)\n",
    "\n",
    "        # zero the parameter gradients\n",
    "        optimizer.zero_grad()\n",
    "\n",
    "        # loss = loss_fn(torch.masked_select(outputs, mask), torch.masked_select(target, mask))\n",
    "        loss = loss_fn(outputs, target)\n",
    "\n",
    "        # backward pass\n",
    "        loss.backward()\n",
    "        total += target.shape[1]\n",
    "\n",
    "        # optimizer run\n",
    "        optimizer.step()\n",
    "\n",
    "        train_loss += loss.item()\n",
    "        loop.set_postfix({\"loss\": train_loss / total})\n",
    "\n",
    "\n",
    "def val_one_epoch(\n",
    "    model,\n",
    "    loader,\n",
    "    loss_fn,\n",
    "    epoch,\n",
    "):\n",
    "    loop = tqdm(\n",
    "        loader,\n",
    "        total=len(loader),\n",
    "        desc=f\"Epoch {epoch}: val\",\n",
    "        leave=True,\n",
    "    )\n",
    "    val_loss = 0.0\n",
    "    total = 0\n",
    "    with torch.no_grad():\n",
    "        model.eval()  # evaluation mode\n",
    "        for batch in loop:\n",
    "            input_data, mask, target = batch\n",
    "            input_data, target, mask = (\n",
    "                input_data.to(DEVICE),\n",
    "                target.to(DEVICE),\n",
    "                mask.to(DEVICE),\n",
    "            )\n",
    "\n",
    "            outputs = model(input_data)\n",
    "\n",
    "            # loss = loss_fn(torch.masked_select(outputs, mask), torch.masked_select(target, mask))\n",
    "            loss = loss_fn(outputs, target)\n",
    "\n",
    "            val_loss += loss.item()\n",
    "            total += target.shape[1]\n",
    "            loop.set_postfix({\"loss\": val_loss / total})\n",
    "    return val_loss / total"
   ]
  },
  {
   "cell_type": "code",
   "execution_count": 17,
   "metadata": {
    "execution": {
     "iopub.execute_input": "2023-10-30T15:46:14.357029Z",
     "iopub.status.busy": "2023-10-30T15:46:14.356687Z",
     "iopub.status.idle": "2023-10-30T16:00:30.509074Z",
     "shell.execute_reply": "2023-10-30T16:00:30.508269Z",
     "shell.execute_reply.started": "2023-10-30T15:46:14.356996Z"
    },
    "trusted": true
   },
   "outputs": [
    {
     "name": "stderr",
     "output_type": "stream",
     "text": [
      "Epoch 1: train:   0%|          | 0/34 [00:00<?, ?it/s]"
     ]
    },
    {
     "name": "stderr",
     "output_type": "stream",
     "text": [
      "Epoch 1: train: 100%|██████████| 34/34 [00:37<00:00,  1.11s/it, loss=0.000107]\n",
      "Epoch 1: val: 100%|██████████| 4/4 [00:00<00:00,  6.93it/s, loss=3.36e-5]\n",
      "Epoch 2: train: 100%|██████████| 34/34 [00:07<00:00,  4.61it/s, loss=2.13e-5]\n",
      "Epoch 2: val: 100%|██████████| 4/4 [00:00<00:00,  6.88it/s, loss=1.77e-5]\n",
      "Epoch 3: train: 100%|██████████| 34/34 [00:09<00:00,  3.55it/s, loss=1.94e-5]\n",
      "Epoch 3: val: 100%|██████████| 4/4 [00:00<00:00,  4.94it/s, loss=1.76e-5]\n",
      "Epoch 4: train: 100%|██████████| 34/34 [00:08<00:00,  3.88it/s, loss=1.92e-5]\n",
      "Epoch 4: val: 100%|██████████| 4/4 [00:01<00:00,  3.70it/s, loss=1.74e-5]\n",
      "Epoch 5: train: 100%|██████████| 34/34 [00:09<00:00,  3.52it/s, loss=1.91e-5]\n",
      "Epoch 5: val: 100%|██████████| 4/4 [00:00<00:00,  5.62it/s, loss=1.72e-5]\n",
      "Epoch 6: train: 100%|██████████| 34/34 [00:08<00:00,  3.80it/s, loss=1.86e-5]\n",
      "Epoch 6: val: 100%|██████████| 4/4 [00:00<00:00,  4.50it/s, loss=1.64e-5]\n",
      "Epoch 7: train: 100%|██████████| 34/34 [00:08<00:00,  4.22it/s, loss=1.74e-5]\n",
      "Epoch 7: val: 100%|██████████| 4/4 [00:00<00:00,  5.22it/s, loss=1.55e-5]\n",
      "Epoch 8: train: 100%|██████████| 34/34 [00:10<00:00,  3.18it/s, loss=1.68e-5]\n",
      "Epoch 8: val: 100%|██████████| 4/4 [00:00<00:00,  5.22it/s, loss=1.51e-5]\n",
      "Epoch 9: train: 100%|██████████| 34/34 [00:09<00:00,  3.77it/s, loss=1.65e-5]\n",
      "Epoch 9: val: 100%|██████████| 4/4 [00:00<00:00,  5.14it/s, loss=1.48e-5]\n",
      "Epoch 10: train: 100%|██████████| 34/34 [00:06<00:00,  4.97it/s, loss=1.61e-5]\n",
      "Epoch 10: val: 100%|██████████| 4/4 [00:00<00:00,  6.46it/s, loss=1.45e-5]\n"
     ]
    }
   ],
   "source": [
    "NUM_EPOCHS = 10\n",
    "\n",
    "best_loss = 1e10\n",
    "\n",
    "for epoch in range(1, NUM_EPOCHS + 1):\n",
    "    train_one_epoch(model, train_dataloader, optimizer, loss_fn, epoch)\n",
    "    val_loss = val_one_epoch(model, val_dataloader, loss_fn, epoch)\n",
    "    if val_loss <= best_loss:\n",
    "        val_loss = best_loss\n",
    "        torch.save(model, \"../models/rating_loss_without_mask\")\n",
    "\n",
    "\n",
    "best = copy.deepcopy(model)"
   ]
  },
  {
   "cell_type": "markdown",
   "metadata": {},
   "source": [
    "## Test model"
   ]
  },
  {
   "cell_type": "code",
   "execution_count": 18,
   "metadata": {
    "execution": {
     "iopub.execute_input": "2023-10-30T16:00:30.510782Z",
     "iopub.status.busy": "2023-10-30T16:00:30.510404Z",
     "iopub.status.idle": "2023-10-30T16:00:30.592431Z",
     "shell.execute_reply": "2023-10-30T16:00:30.591458Z",
     "shell.execute_reply.started": "2023-10-30T16:00:30.510749Z"
    },
    "trusted": true
   },
   "outputs": [
    {
     "data": {
      "text/plain": [
       "RecSys(\n",
       "  (d1): Dropout(p=0.1, inplace=False)\n",
       "  (d2): Dropout(p=0.2, inplace=False)\n",
       "  (fc1): Linear(in_features=1705, out_features=1024, bias=True)\n",
       "  (fc2): Linear(in_features=1024, out_features=1024, bias=True)\n",
       "  (fc3): Linear(in_features=1024, out_features=1024, bias=True)\n",
       "  (fc4): Linear(in_features=1024, out_features=1682, bias=True)\n",
       ")"
      ]
     },
     "execution_count": 18,
     "metadata": {},
     "output_type": "execute_result"
    }
   ],
   "source": [
    "model = torch.load(\"../models/rating_loss_without_mask\")\n",
    "model.eval()"
   ]
  },
  {
   "cell_type": "code",
   "execution_count": 19,
   "metadata": {},
   "outputs": [],
   "source": [
    "def greedy_test(\n",
    "    model,\n",
    "    input_data: torch.Tensor,\n",
    "):\n",
    "    with torch.no_grad():\n",
    "        model.eval()\n",
    "\n",
    "        input_data = input_data.to(DEVICE)\n",
    "\n",
    "        model_out = model(input_data)\n",
    "\n",
    "    return model_out"
   ]
  },
  {
   "cell_type": "code",
   "execution_count": 20,
   "metadata": {},
   "outputs": [],
   "source": [
    "class TestDataset:\n",
    "    def __init__(self, df: pd.DataFrame):\n",
    "        self.df = df\n",
    "        self.inputs = self.df.iloc[:, : USER_FEATURES + NUM_MOVIES].to_numpy()\n",
    "        self.targets = self.df.iloc[\n",
    "            :, USER_FEATURES + NUM_MOVIES : USER_FEATURES + NUM_MOVIES * 2\n",
    "        ].to_numpy()\n",
    "\n",
    "    def __getitem__(self, idx: int) -> tuple[np.ndarray, np.ndarray]:\n",
    "        input_data = self.inputs[idx]\n",
    "        return input_data, self.targets[idx]\n",
    "\n",
    "    def __len__(self) -> int:\n",
    "        return len(self.df)"
   ]
  },
  {
   "cell_type": "code",
   "execution_count": 21,
   "metadata": {},
   "outputs": [],
   "source": [
    "test_dataset = TestDataset(val_df)"
   ]
  },
  {
   "cell_type": "markdown",
   "metadata": {},
   "source": [
    "## Metrics"
   ]
  },
  {
   "cell_type": "code",
   "execution_count": 22,
   "metadata": {},
   "outputs": [],
   "source": [
    "def get_new_data(input_data, target, predicted):\n",
    "    input_ratings = input_data[USER_FEATURES:]\n",
    "    remove_indices = np.nonzero(input_ratings > 0)[0]\n",
    "    new_target = np.delete(target, remove_indices)\n",
    "    new_predicted = np.delete(predicted, remove_indices)\n",
    "\n",
    "    return new_target, new_predicted\n",
    "\n",
    "\n",
    "def sort_args(x, n):\n",
    "    return np.argsort(-x)[:n]\n",
    "\n",
    "\n",
    "def top_intersection(target, predicted, top_n=20):\n",
    "    return list(set(sort_args(target, top_n)).intersection(sort_args(predicted, top_n)))"
   ]
  },
  {
   "cell_type": "code",
   "execution_count": 23,
   "metadata": {},
   "outputs": [
    {
     "name": "stdout",
     "output_type": "stream",
     "text": [
      "len(intersections)=471\n",
      "np.mean(intersections)=2.4416135881104033\n",
      "np.max(intersections)=9\n",
      "np.min(intersections)=0\n"
     ]
    }
   ],
   "source": [
    "k = 10\n",
    "\n",
    "intersections = []\n",
    "for input_data, masked_target in test_dataset:\n",
    "    predictions = greedy_test(model, torch.Tensor([input_data]))\n",
    "    target = masked_target\n",
    "    predicted = predictions[0].cpu().numpy()\n",
    "\n",
    "    new_target, new_predicted = get_new_data(input_data, target, predicted)\n",
    "\n",
    "    nonzero_targets = new_target[new_target > 0]\n",
    "    relevant_predicted = new_predicted[new_predicted > 0.2]\n",
    "\n",
    "    intersections.append(len(top_intersection(nonzero_targets, relevant_predicted, k)))\n",
    "print(f\"{len(intersections)=}\")\n",
    "print(f\"{np.mean(intersections)=}\")\n",
    "print(f\"{np.max(intersections)=}\")\n",
    "print(f\"{np.min(intersections)=}\")"
   ]
  },
  {
   "cell_type": "code",
   "execution_count": 36,
   "metadata": {},
   "outputs": [
    {
     "name": "stdout",
     "output_type": "stream",
     "text": [
      "len(retrieval_precisions)=471\n",
      "np.mean(retrieval_precisions)=0.5292994\n",
      "np.max(retrieval_precisions)=1.0\n",
      "np.min(retrieval_precisions)=0.0\n"
     ]
    }
   ],
   "source": [
    "k = 10\n",
    "retrieval_precisions = []\n",
    "\n",
    "for input_data, masked_target in test_dataset:\n",
    "    predictions = greedy_test(model, torch.Tensor([input_data]))\n",
    "    target = masked_target\n",
    "    predicted = predictions[0].cpu().numpy()\n",
    "\n",
    "    new_target, new_predicted = get_new_data(input_data, target, predicted)\n",
    "\n",
    "    nonzero_targets = new_target > 0\n",
    "    relevant_predicted = new_predicted\n",
    "\n",
    "    retrieval_precisions.append(\n",
    "        retrieval_precision(\n",
    "            torch.Tensor(relevant_predicted), torch.Tensor(nonzero_targets), k\n",
    "        )\n",
    "    )\n",
    "\n",
    "print(f\"{len(retrieval_precisions)=}\")\n",
    "print(f\"{np.mean(retrieval_precisions)=}\")\n",
    "print(f\"{np.max(retrieval_precisions)=}\")\n",
    "print(f\"{np.min(retrieval_precisions)=}\")"
   ]
  }
 ],
 "metadata": {
  "kernelspec": {
   "display_name": "Python 3",
   "language": "python",
   "name": "python3"
  },
  "language_info": {
   "codemirror_mode": {
    "name": "ipython",
    "version": 3
   },
   "file_extension": ".py",
   "mimetype": "text/x-python",
   "name": "python",
   "nbconvert_exporter": "python",
   "pygments_lexer": "ipython3",
   "version": "3.11.0"
  }
 },
 "nbformat": 4,
 "nbformat_minor": 4
}
