{
 "cells": [
  {
   "cell_type": "markdown",
   "metadata": {},
   "source": [
    "# Data exploration 2.0\n",
    "\n",
    "[MovieLens 100K dataset](https://grouplens.org/datasets/movielens/100k/)\n"
   ]
  },
  {
   "cell_type": "code",
   "execution_count": 1,
   "metadata": {},
   "outputs": [],
   "source": [
    "import os\n",
    "\n",
    "import numpy as np\n",
    "import pandas as pd\n",
    "from tqdm import tqdm"
   ]
  },
  {
   "cell_type": "code",
   "execution_count": 2,
   "metadata": {},
   "outputs": [],
   "source": [
    "MANUAL_SEED: int = 42"
   ]
  },
  {
   "cell_type": "markdown",
   "metadata": {},
   "source": [
    "## Data loading\n"
   ]
  },
  {
   "cell_type": "code",
   "execution_count": 14,
   "metadata": {},
   "outputs": [
    {
     "name": "stdout",
     "output_type": "stream",
     "text": [
      "num_users=943\n",
      "num_items=1682\n"
     ]
    },
    {
     "data": {
      "text/html": [
       "<div>\n",
       "<style scoped>\n",
       "    .dataframe tbody tr th:only-of-type {\n",
       "        vertical-align: middle;\n",
       "    }\n",
       "\n",
       "    .dataframe tbody tr th {\n",
       "        vertical-align: top;\n",
       "    }\n",
       "\n",
       "    .dataframe thead th {\n",
       "        text-align: right;\n",
       "    }\n",
       "</style>\n",
       "<table border=\"1\" class=\"dataframe\">\n",
       "  <thead>\n",
       "    <tr style=\"text-align: right;\">\n",
       "      <th></th>\n",
       "      <th>user_id</th>\n",
       "      <th>item_id</th>\n",
       "      <th>rating</th>\n",
       "      <th>timestamp</th>\n",
       "    </tr>\n",
       "  </thead>\n",
       "  <tbody>\n",
       "    <tr>\n",
       "      <th>0</th>\n",
       "      <td>196</td>\n",
       "      <td>242</td>\n",
       "      <td>3</td>\n",
       "      <td>881250949</td>\n",
       "    </tr>\n",
       "    <tr>\n",
       "      <th>1</th>\n",
       "      <td>186</td>\n",
       "      <td>302</td>\n",
       "      <td>3</td>\n",
       "      <td>891717742</td>\n",
       "    </tr>\n",
       "    <tr>\n",
       "      <th>2</th>\n",
       "      <td>22</td>\n",
       "      <td>377</td>\n",
       "      <td>1</td>\n",
       "      <td>878887116</td>\n",
       "    </tr>\n",
       "    <tr>\n",
       "      <th>3</th>\n",
       "      <td>244</td>\n",
       "      <td>51</td>\n",
       "      <td>2</td>\n",
       "      <td>880606923</td>\n",
       "    </tr>\n",
       "    <tr>\n",
       "      <th>4</th>\n",
       "      <td>166</td>\n",
       "      <td>346</td>\n",
       "      <td>1</td>\n",
       "      <td>886397596</td>\n",
       "    </tr>\n",
       "  </tbody>\n",
       "</table>\n",
       "</div>"
      ],
      "text/plain": [
       "   user_id  item_id  rating  timestamp\n",
       "0      196      242       3  881250949\n",
       "1      186      302       3  891717742\n",
       "2       22      377       1  878887116\n",
       "3      244       51       2  880606923\n",
       "4      166      346       1  886397596"
      ]
     },
     "execution_count": 14,
     "metadata": {},
     "output_type": "execute_result"
    }
   ],
   "source": [
    "def load_occupations(path: str) -> dict[str, int]:\n",
    "    with open(os.path.join(path, \"u.occupation\"), \"r\") as f:\n",
    "        data = f.readlines()\n",
    "\n",
    "    return {name.strip(): idx for idx, name in enumerate(data)}\n",
    "\n",
    "\n",
    "def load_genres(path: str) -> list[str]:\n",
    "    return pd.read_csv(\n",
    "        os.path.join(path, \"u.genre\"),\n",
    "        sep=\"|\",\n",
    "        header=None,\n",
    "        names=[\"name\", \"genre_idx\"],\n",
    "        encoding=\"ISO-8859-1\",\n",
    "    )[\"name\"].tolist()\n",
    "\n",
    "\n",
    "def load_items(path: str, genres: list[str]) -> pd.DataFrame:\n",
    "    return pd.read_csv(\n",
    "        os.path.join(path, \"u.item\"),\n",
    "        sep=\"|\",\n",
    "        header=None,\n",
    "        names=[\n",
    "            \"movie_id\",\n",
    "            \"movie_title\",\n",
    "            \"release_date\",\n",
    "            \"video_release_date\",\n",
    "            \"IMDb_URL\",\n",
    "            *genres,\n",
    "        ],\n",
    "        encoding=\"ISO-8859-1\",\n",
    "    )\n",
    "\n",
    "\n",
    "def load_users(path: str) -> pd.DataFrame:\n",
    "    return pd.read_csv(\n",
    "        os.path.join(path, \"u.user\"),\n",
    "        sep=\"|\",\n",
    "        header=None,\n",
    "        names=[\"user_id\", \"age\", \"gender\", \"occupation\", \"zip_code\"],\n",
    "        encoding=\"ISO-8859-1\",\n",
    "    )\n",
    "\n",
    "\n",
    "def load_connections(path: str) -> pd.DataFrame:\n",
    "    return pd.read_csv(\n",
    "        os.path.join(path, \"u.data\"),\n",
    "        sep=\"\\t\",\n",
    "        names=[\"user_id\", \"item_id\", \"rating\", \"timestamp\"],\n",
    "        engine=\"python\",\n",
    "    )\n",
    "\n",
    "\n",
    "genres = load_genres(\"../data/interim/ml-100k/\")\n",
    "occupations_dict = load_occupations(\"../data/interim/ml-100k/\")\n",
    "raw_connections_df = load_connections(\"../data/interim/ml-100k/\")\n",
    "raw_items_df = load_items(\"../data/interim/ml-100k/\", genres)\n",
    "raw_users_df = load_users(\"../data/interim/ml-100k/\")\n",
    "\n",
    "\n",
    "num_users = len(raw_users_df)\n",
    "num_items = len(raw_items_df)\n",
    "print(f\"{num_users=}\\n{num_items=}\")\n",
    "raw_connections_df.head()"
   ]
  },
  {
   "cell_type": "markdown",
   "metadata": {},
   "source": [
    "## Data preprocessing"
   ]
  },
  {
   "cell_type": "code",
   "execution_count": 15,
   "metadata": {},
   "outputs": [],
   "source": [
    "users_df = raw_users_df.copy()"
   ]
  },
  {
   "cell_type": "code",
   "execution_count": 21,
   "metadata": {},
   "outputs": [],
   "source": [
    "def basic_users_encode(df: pd.DataFrame) -> pd.DataFrame:\n",
    "    users_df = df.copy()\n",
    "\n",
    "    users_df[\"gender\"] = (raw_users_df[\"gender\"] == \"M\").astype(int)\n",
    "    users_df[\"age\"] = raw_users_df[\"age\"] / 100\n",
    "\n",
    "    users_df.drop(columns=[\"zip_code\"], inplace=True)\n",
    "\n",
    "    users_df[\"occupation\"] = raw_users_df[\"occupation\"].apply(occupations_dict.get)\n",
    "\n",
    "    return users_df"
   ]
  },
  {
   "cell_type": "code",
   "execution_count": 20,
   "metadata": {},
   "outputs": [
    {
     "data": {
      "text/html": [
       "<div>\n",
       "<style scoped>\n",
       "    .dataframe tbody tr th:only-of-type {\n",
       "        vertical-align: middle;\n",
       "    }\n",
       "\n",
       "    .dataframe tbody tr th {\n",
       "        vertical-align: top;\n",
       "    }\n",
       "\n",
       "    .dataframe thead th {\n",
       "        text-align: right;\n",
       "    }\n",
       "</style>\n",
       "<table border=\"1\" class=\"dataframe\">\n",
       "  <thead>\n",
       "    <tr style=\"text-align: right;\">\n",
       "      <th></th>\n",
       "      <th>user_id</th>\n",
       "      <th>age</th>\n",
       "      <th>gender</th>\n",
       "      <th>occupation</th>\n",
       "    </tr>\n",
       "  </thead>\n",
       "  <tbody>\n",
       "    <tr>\n",
       "      <th>0</th>\n",
       "      <td>1</td>\n",
       "      <td>0.24</td>\n",
       "      <td>1</td>\n",
       "      <td>19</td>\n",
       "    </tr>\n",
       "    <tr>\n",
       "      <th>1</th>\n",
       "      <td>2</td>\n",
       "      <td>0.53</td>\n",
       "      <td>0</td>\n",
       "      <td>13</td>\n",
       "    </tr>\n",
       "    <tr>\n",
       "      <th>2</th>\n",
       "      <td>3</td>\n",
       "      <td>0.23</td>\n",
       "      <td>1</td>\n",
       "      <td>20</td>\n",
       "    </tr>\n",
       "    <tr>\n",
       "      <th>3</th>\n",
       "      <td>4</td>\n",
       "      <td>0.24</td>\n",
       "      <td>1</td>\n",
       "      <td>19</td>\n",
       "    </tr>\n",
       "    <tr>\n",
       "      <th>4</th>\n",
       "      <td>5</td>\n",
       "      <td>0.33</td>\n",
       "      <td>0</td>\n",
       "      <td>13</td>\n",
       "    </tr>\n",
       "  </tbody>\n",
       "</table>\n",
       "</div>"
      ],
      "text/plain": [
       "   user_id   age  gender  occupation\n",
       "0        1  0.24       1          19\n",
       "1        2  0.53       0          13\n",
       "2        3  0.23       1          20\n",
       "3        4  0.24       1          19\n",
       "4        5  0.33       0          13"
      ]
     },
     "execution_count": 20,
     "metadata": {},
     "output_type": "execute_result"
    }
   ],
   "source": [
    "users_df = basic_users_encode(raw_users_df)\n",
    "users_df.head()"
   ]
  },
  {
   "cell_type": "code",
   "execution_count": 33,
   "metadata": {},
   "outputs": [],
   "source": [
    "def calculate_ratings(\n",
    "    user_id: int, items_length: int, connections_df: pd.DataFrame\n",
    ") -> list[float]:\n",
    "    ratings = [0.0 for _ in range(items_length)]\n",
    "    for _, r in connections_df[connections_df[\"user_id\"] == user_id].iterrows():\n",
    "        ratings[r[\"item_id\"] - 1] = r[\"rating\"]\n",
    "    return ratings\n",
    "\n",
    "\n",
    "def get_ratings_dict(\n",
    "    df: pd.DataFrame, connections_df: pd.DataFrame, items_df: pd.DataFrame\n",
    ") -> dict[int, list[float]]:\n",
    "    item_ids = items_df[\"movie_id\"].to_list()\n",
    "    items_length = len(item_ids)\n",
    "\n",
    "    ratings_dict = {}\n",
    "\n",
    "    for user_id in df[\"user_id\"].tolist():\n",
    "        ratings_dict[user_id] = calculate_ratings(user_id, items_length, connections_df)\n",
    "\n",
    "    return ratings_dict"
   ]
  },
  {
   "cell_type": "code",
   "execution_count": 34,
   "metadata": {},
   "outputs": [],
   "source": [
    "ratings_dict = get_ratings_dict(users_df, raw_connections_df, raw_items_df)"
   ]
  },
  {
   "cell_type": "code",
   "execution_count": 65,
   "metadata": {},
   "outputs": [
    {
     "name": "stderr",
     "output_type": "stream",
     "text": [
      "0it [00:00, ?it/s]\n"
     ]
    }
   ],
   "source": [
    "for _, row in tqdm(users_df.iterrows()):\n",
    "    r = row\n",
    "    break"
   ]
  },
  {
   "cell_type": "code",
   "execution_count": 70,
   "metadata": {},
   "outputs": [
    {
     "data": {
      "text/plain": [
       "{'dsfds': '1were',\n",
       " 'user_id': 1.0,\n",
       " 'age': 0.24,\n",
       " 'gender': 1.0,\n",
       " 'occupation': 19.0}"
      ]
     },
     "execution_count": 70,
     "metadata": {},
     "output_type": "execute_result"
    }
   ],
   "source": [
    "a = {\"dsfds\": \"1were\"}\n",
    "a.update(r.to_dict())\n",
    "a"
   ]
  },
  {
   "cell_type": "code",
   "execution_count": 85,
   "metadata": {},
   "outputs": [],
   "source": [
    "def calculate_genre_ratios(\n",
    "    movie_indices: np.ndarray, items_df: pd.DataFrame\n",
    ") -> np.ndarray:\n",
    "    genres_sum = (\n",
    "        items_df[items_df[\"movie_id\"].isin(movie_indices + 1)]\n",
    "        .iloc[:, 5:]\n",
    "        .sum(axis=0)\n",
    "        .to_numpy()\n",
    "    )\n",
    "    return genres_sum / genres_sum.sum()\n",
    "\n",
    "\n",
    "def generate_masks_frames(\n",
    "    users_df: pd.DataFrame,\n",
    "    items_df: pd.DataFrame,\n",
    "    ratings_dict: dict[int, list[float]],\n",
    "    mask_percents: list[float] = [i / 10 for i in range(1, 10)],\n",
    "    num_masks: int = 3,\n",
    "    seed: int = MANUAL_SEED,\n",
    ") -> list[pd.DataFrame]:\n",
    "    np.random.seed(seed)\n",
    "\n",
    "    data_frames = []\n",
    "\n",
    "    for _ in range(num_masks):\n",
    "        for mask_percent in mask_percents:\n",
    "            user_dict = {}\n",
    "            # for user_id in tqdm(users_df[\"user_id\"].tolist()):\n",
    "            for _, row in users_df.iterrows():\n",
    "                user_id = row[\"user_id\"]\n",
    "                user_ratings = np.array(ratings_dict[user_id])\n",
    "                watched_indices = user_ratings.nonzero()[0]\n",
    "                num_watched = len(watched_indices)\n",
    "                np.random.shuffle(watched_indices)\n",
    "\n",
    "                stop_idx = int(mask_percent * num_watched)\n",
    "                mask_watched_indices = watched_indices[:stop_idx]\n",
    "                already_watched = watched_indices[stop_idx:]\n",
    "\n",
    "                input_ratings = user_ratings.copy()\n",
    "                input_ratings[mask_watched_indices] = 0.0\n",
    "\n",
    "                genres_ratios = calculate_genre_ratios(already_watched, items_df)\n",
    "\n",
    "                object_dict = row.to_dict()\n",
    "                object_dict.update(\n",
    "                    {\n",
    "                        \"input\": input_ratings.tolist(),\n",
    "                        \"output\": user_ratings.tolist(),\n",
    "                        \"genres\": genres_ratios.tolist(),\n",
    "                    }\n",
    "                )\n",
    "                for k, v in object_dict.items():\n",
    "                    if k not in user_dict:\n",
    "                        user_dict[k] = [v]\n",
    "                        continue\n",
    "                    user_dict[k].append(v)\n",
    "\n",
    "            data_frames.append(pd.DataFrame.from_dict(user_dict))\n",
    "\n",
    "    return data_frames"
   ]
  },
  {
   "cell_type": "code",
   "execution_count": 86,
   "metadata": {},
   "outputs": [],
   "source": [
    "data_frames = generate_masks_frames(users_df, raw_items_df, ratings_dict)"
   ]
  },
  {
   "cell_type": "code",
   "execution_count": 93,
   "metadata": {},
   "outputs": [
    {
     "name": "stderr",
     "output_type": "stream",
     "text": [
      "100%|██████████| 27/27 [00:21<00:00,  1.25it/s]\n"
     ]
    }
   ],
   "source": [
    "for idx, data_frame in tqdm(enumerate(data_frames), total=len(data_frames)):\n",
    "    data_frame.to_csv(f\"../data/raw/user_masks/{idx}.csv\", index=False)"
   ]
  },
  {
   "cell_type": "markdown",
   "metadata": {},
   "source": [
    "## Read data"
   ]
  },
  {
   "cell_type": "code",
   "execution_count": 94,
   "metadata": {},
   "outputs": [
    {
     "data": {
      "text/html": [
       "<div>\n",
       "<style scoped>\n",
       "    .dataframe tbody tr th:only-of-type {\n",
       "        vertical-align: middle;\n",
       "    }\n",
       "\n",
       "    .dataframe tbody tr th {\n",
       "        vertical-align: top;\n",
       "    }\n",
       "\n",
       "    .dataframe thead th {\n",
       "        text-align: right;\n",
       "    }\n",
       "</style>\n",
       "<table border=\"1\" class=\"dataframe\">\n",
       "  <thead>\n",
       "    <tr style=\"text-align: right;\">\n",
       "      <th></th>\n",
       "      <th>user_id</th>\n",
       "      <th>age</th>\n",
       "      <th>gender</th>\n",
       "      <th>occupation</th>\n",
       "      <th>input</th>\n",
       "      <th>output</th>\n",
       "      <th>genres</th>\n",
       "    </tr>\n",
       "  </thead>\n",
       "  <tbody>\n",
       "    <tr>\n",
       "      <th>0</th>\n",
       "      <td>1.0</td>\n",
       "      <td>0.24</td>\n",
       "      <td>1.0</td>\n",
       "      <td>19.0</td>\n",
       "      <td>[5.0, 3.0, 4.0, 3.0, 3.0, 5.0, 4.0, 1.0, 5.0, ...</td>\n",
       "      <td>[5.0, 3.0, 4.0, 3.0, 3.0, 5.0, 4.0, 1.0, 5.0, ...</td>\n",
       "      <td>[0.0019047619047619048, 0.1219047619047619, 0....</td>\n",
       "    </tr>\n",
       "    <tr>\n",
       "      <th>1</th>\n",
       "      <td>2.0</td>\n",
       "      <td>0.53</td>\n",
       "      <td>0.0</td>\n",
       "      <td>13.0</td>\n",
       "      <td>[4.0, 0.0, 0.0, 0.0, 0.0, 0.0, 0.0, 0.0, 0.0, ...</td>\n",
       "      <td>[4.0, 0.0, 0.0, 0.0, 0.0, 0.0, 0.0, 0.0, 0.0, ...</td>\n",
       "      <td>[0.0, 0.08333333333333333, 0.02777777777777777...</td>\n",
       "    </tr>\n",
       "    <tr>\n",
       "      <th>2</th>\n",
       "      <td>3.0</td>\n",
       "      <td>0.23</td>\n",
       "      <td>1.0</td>\n",
       "      <td>20.0</td>\n",
       "      <td>[0.0, 0.0, 0.0, 0.0, 0.0, 0.0, 0.0, 0.0, 0.0, ...</td>\n",
       "      <td>[0.0, 0.0, 0.0, 0.0, 0.0, 0.0, 0.0, 0.0, 0.0, ...</td>\n",
       "      <td>[0.0, 0.10810810810810811, 0.03603603603603603...</td>\n",
       "    </tr>\n",
       "    <tr>\n",
       "      <th>3</th>\n",
       "      <td>4.0</td>\n",
       "      <td>0.24</td>\n",
       "      <td>1.0</td>\n",
       "      <td>19.0</td>\n",
       "      <td>[0.0, 0.0, 0.0, 0.0, 0.0, 0.0, 0.0, 0.0, 0.0, ...</td>\n",
       "      <td>[0.0, 0.0, 0.0, 0.0, 0.0, 0.0, 0.0, 0.0, 0.0, ...</td>\n",
       "      <td>[0.0, 0.14814814814814814, 0.07407407407407407...</td>\n",
       "    </tr>\n",
       "    <tr>\n",
       "      <th>4</th>\n",
       "      <td>5.0</td>\n",
       "      <td>0.33</td>\n",
       "      <td>0.0</td>\n",
       "      <td>13.0</td>\n",
       "      <td>[4.0, 3.0, 0.0, 0.0, 0.0, 0.0, 0.0, 0.0, 0.0, ...</td>\n",
       "      <td>[4.0, 3.0, 0.0, 0.0, 0.0, 0.0, 0.0, 0.0, 0.0, ...</td>\n",
       "      <td>[0.0028735632183908046, 0.14942528735632185, 0...</td>\n",
       "    </tr>\n",
       "  </tbody>\n",
       "</table>\n",
       "</div>"
      ],
      "text/plain": [
       "   user_id   age  gender  occupation  \\\n",
       "0      1.0  0.24     1.0        19.0   \n",
       "1      2.0  0.53     0.0        13.0   \n",
       "2      3.0  0.23     1.0        20.0   \n",
       "3      4.0  0.24     1.0        19.0   \n",
       "4      5.0  0.33     0.0        13.0   \n",
       "\n",
       "                                               input  \\\n",
       "0  [5.0, 3.0, 4.0, 3.0, 3.0, 5.0, 4.0, 1.0, 5.0, ...   \n",
       "1  [4.0, 0.0, 0.0, 0.0, 0.0, 0.0, 0.0, 0.0, 0.0, ...   \n",
       "2  [0.0, 0.0, 0.0, 0.0, 0.0, 0.0, 0.0, 0.0, 0.0, ...   \n",
       "3  [0.0, 0.0, 0.0, 0.0, 0.0, 0.0, 0.0, 0.0, 0.0, ...   \n",
       "4  [4.0, 3.0, 0.0, 0.0, 0.0, 0.0, 0.0, 0.0, 0.0, ...   \n",
       "\n",
       "                                              output  \\\n",
       "0  [5.0, 3.0, 4.0, 3.0, 3.0, 5.0, 4.0, 1.0, 5.0, ...   \n",
       "1  [4.0, 0.0, 0.0, 0.0, 0.0, 0.0, 0.0, 0.0, 0.0, ...   \n",
       "2  [0.0, 0.0, 0.0, 0.0, 0.0, 0.0, 0.0, 0.0, 0.0, ...   \n",
       "3  [0.0, 0.0, 0.0, 0.0, 0.0, 0.0, 0.0, 0.0, 0.0, ...   \n",
       "4  [4.0, 3.0, 0.0, 0.0, 0.0, 0.0, 0.0, 0.0, 0.0, ...   \n",
       "\n",
       "                                              genres  \n",
       "0  [0.0019047619047619048, 0.1219047619047619, 0....  \n",
       "1  [0.0, 0.08333333333333333, 0.02777777777777777...  \n",
       "2  [0.0, 0.10810810810810811, 0.03603603603603603...  \n",
       "3  [0.0, 0.14814814814814814, 0.07407407407407407...  \n",
       "4  [0.0028735632183908046, 0.14942528735632185, 0...  "
      ]
     },
     "execution_count": 94,
     "metadata": {},
     "output_type": "execute_result"
    }
   ],
   "source": [
    "path = os.path.join(\".\", \"../data/raw/user_masks/\")\n",
    "loaded_dfs = [\n",
    "    pd.read_csv(os.path.join(path, file_name)) for file_name in os.listdir(path)\n",
    "]\n",
    "full_df = pd.concat(loaded_dfs)\n",
    "full_df.head()"
   ]
  }
 ],
 "metadata": {
  "kernelspec": {
   "display_name": "movie-recommender-system-l_rFrim-",
   "language": "python",
   "name": "python3"
  },
  "language_info": {
   "codemirror_mode": {
    "name": "ipython",
    "version": 3
   },
   "file_extension": ".py",
   "mimetype": "text/x-python",
   "name": "python",
   "nbconvert_exporter": "python",
   "pygments_lexer": "ipython3",
   "version": "3.11.0"
  }
 },
 "nbformat": 4,
 "nbformat_minor": 2
}
